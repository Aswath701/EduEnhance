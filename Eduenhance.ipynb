{
  "cells": [
    {
      "cell_type": "code",
      "execution_count": null,
      "metadata": {
        "colab": {
          "base_uri": "https://localhost:8080/"
        },
        "id": "xTH8VHWwJmX9",
        "outputId": "3ecd7168-312f-4b57-a70c-a24822d937ad"
      },
      "outputs": [
        {
          "name": "stdout",
          "output_type": "stream",
          "text": [
            "Requirement already satisfied: streamlit in /usr/local/lib/python3.10/dist-packages (1.39.0)\n",
            "Requirement already satisfied: spacy in /usr/local/lib/python3.10/dist-packages (3.7.5)\n",
            "Collecting langdetect\n",
            "  Downloading langdetect-1.0.9.tar.gz (981 kB)\n",
            "\u001b[2K     \u001b[90m━━━━━━━━━━━━━━━━━━━━━━━━━━━━━━━━━━━━━━━━\u001b[0m \u001b[32m981.5/981.5 kB\u001b[0m \u001b[31m11.7 MB/s\u001b[0m eta \u001b[36m0:00:00\u001b[0m\n",
            "\u001b[?25h  Preparing metadata (setup.py) ... \u001b[?25l\u001b[?25hdone\n",
            "Requirement already satisfied: plotly in /usr/local/lib/python3.10/dist-packages (5.24.1)\n",
            "Requirement already satisfied: pymupdf in /usr/local/lib/python3.10/dist-packages (1.24.11)\n",
            "Requirement already satisfied: python-docx in /usr/local/lib/python3.10/dist-packages (1.1.2)\n",
            "Requirement already satisfied: altair<6,>=4.0 in /usr/local/lib/python3.10/dist-packages (from streamlit) (4.2.2)\n",
            "Requirement already satisfied: blinker<2,>=1.0.0 in /usr/lib/python3/dist-packages (from streamlit) (1.4)\n",
            "Requirement already satisfied: cachetools<6,>=4.0 in /usr/local/lib/python3.10/dist-packages (from streamlit) (5.5.0)\n",
            "Requirement already satisfied: click<9,>=7.0 in /usr/local/lib/python3.10/dist-packages (from streamlit) (8.1.7)\n",
            "Requirement already satisfied: numpy<3,>=1.20 in /usr/local/lib/python3.10/dist-packages (from streamlit) (1.26.4)\n",
            "Requirement already satisfied: packaging<25,>=20 in /usr/local/lib/python3.10/dist-packages (from streamlit) (24.1)\n",
            "Requirement already satisfied: pandas<3,>=1.4.0 in /usr/local/lib/python3.10/dist-packages (from streamlit) (2.2.2)\n",
            "Requirement already satisfied: pillow<11,>=7.1.0 in /usr/local/lib/python3.10/dist-packages (from streamlit) (10.4.0)\n",
            "Requirement already satisfied: protobuf<6,>=3.20 in /usr/local/lib/python3.10/dist-packages (from streamlit) (3.20.3)\n",
            "Requirement already satisfied: pyarrow>=7.0 in /usr/local/lib/python3.10/dist-packages (from streamlit) (16.1.0)\n",
            "Requirement already satisfied: requests<3,>=2.27 in /usr/local/lib/python3.10/dist-packages (from streamlit) (2.32.3)\n",
            "Requirement already satisfied: rich<14,>=10.14.0 in /usr/local/lib/python3.10/dist-packages (from streamlit) (13.8.1)\n",
            "Requirement already satisfied: tenacity<10,>=8.1.0 in /usr/local/lib/python3.10/dist-packages (from streamlit) (9.0.0)\n",
            "Requirement already satisfied: toml<2,>=0.10.1 in /usr/local/lib/python3.10/dist-packages (from streamlit) (0.10.2)\n",
            "Requirement already satisfied: typing-extensions<5,>=4.3.0 in /usr/local/lib/python3.10/dist-packages (from streamlit) (4.12.2)\n",
            "Requirement already satisfied: gitpython!=3.1.19,<4,>=3.0.7 in /usr/local/lib/python3.10/dist-packages (from streamlit) (3.1.43)\n",
            "Requirement already satisfied: pydeck<1,>=0.8.0b4 in /usr/local/lib/python3.10/dist-packages (from streamlit) (0.9.1)\n",
            "Requirement already satisfied: tornado<7,>=6.0.3 in /usr/local/lib/python3.10/dist-packages (from streamlit) (6.3.3)\n",
            "Requirement already satisfied: watchdog<6,>=2.1.5 in /usr/local/lib/python3.10/dist-packages (from streamlit) (5.0.3)\n",
            "Requirement already satisfied: spacy-legacy<3.1.0,>=3.0.11 in /usr/local/lib/python3.10/dist-packages (from spacy) (3.0.12)\n",
            "Requirement already satisfied: spacy-loggers<2.0.0,>=1.0.0 in /usr/local/lib/python3.10/dist-packages (from spacy) (1.0.5)\n",
            "Requirement already satisfied: murmurhash<1.1.0,>=0.28.0 in /usr/local/lib/python3.10/dist-packages (from spacy) (1.0.10)\n",
            "Requirement already satisfied: cymem<2.1.0,>=2.0.2 in /usr/local/lib/python3.10/dist-packages (from spacy) (2.0.8)\n",
            "Requirement already satisfied: preshed<3.1.0,>=3.0.2 in /usr/local/lib/python3.10/dist-packages (from spacy) (3.0.9)\n",
            "Requirement already satisfied: thinc<8.3.0,>=8.2.2 in /usr/local/lib/python3.10/dist-packages (from spacy) (8.2.5)\n",
            "Requirement already satisfied: wasabi<1.2.0,>=0.9.1 in /usr/local/lib/python3.10/dist-packages (from spacy) (1.1.3)\n",
            "Requirement already satisfied: srsly<3.0.0,>=2.4.3 in /usr/local/lib/python3.10/dist-packages (from spacy) (2.4.8)\n",
            "Requirement already satisfied: catalogue<2.1.0,>=2.0.6 in /usr/local/lib/python3.10/dist-packages (from spacy) (2.0.10)\n",
            "Requirement already satisfied: weasel<0.5.0,>=0.1.0 in /usr/local/lib/python3.10/dist-packages (from spacy) (0.4.1)\n",
            "Requirement already satisfied: typer<1.0.0,>=0.3.0 in /usr/local/lib/python3.10/dist-packages (from spacy) (0.12.5)\n",
            "Requirement already satisfied: tqdm<5.0.0,>=4.38.0 in /usr/local/lib/python3.10/dist-packages (from spacy) (4.66.5)\n",
            "Requirement already satisfied: pydantic!=1.8,!=1.8.1,<3.0.0,>=1.7.4 in /usr/local/lib/python3.10/dist-packages (from spacy) (2.9.2)\n",
            "Requirement already satisfied: jinja2 in /usr/local/lib/python3.10/dist-packages (from spacy) (3.1.4)\n",
            "Requirement already satisfied: setuptools in /usr/local/lib/python3.10/dist-packages (from spacy) (71.0.4)\n",
            "Requirement already satisfied: langcodes<4.0.0,>=3.2.0 in /usr/local/lib/python3.10/dist-packages (from spacy) (3.4.1)\n",
            "Requirement already satisfied: six in /usr/local/lib/python3.10/dist-packages (from langdetect) (1.16.0)\n",
            "Requirement already satisfied: lxml>=3.1.0 in /usr/local/lib/python3.10/dist-packages (from python-docx) (4.9.4)\n",
            "Requirement already satisfied: entrypoints in /usr/local/lib/python3.10/dist-packages (from altair<6,>=4.0->streamlit) (0.4)\n",
            "Requirement already satisfied: jsonschema>=3.0 in /usr/local/lib/python3.10/dist-packages (from altair<6,>=4.0->streamlit) (4.23.0)\n",
            "Requirement already satisfied: toolz in /usr/local/lib/python3.10/dist-packages (from altair<6,>=4.0->streamlit) (0.12.1)\n",
            "Requirement already satisfied: gitdb<5,>=4.0.1 in /usr/local/lib/python3.10/dist-packages (from gitpython!=3.1.19,<4,>=3.0.7->streamlit) (4.0.11)\n",
            "Requirement already satisfied: language-data>=1.2 in /usr/local/lib/python3.10/dist-packages (from langcodes<4.0.0,>=3.2.0->spacy) (1.2.0)\n",
            "Requirement already satisfied: python-dateutil>=2.8.2 in /usr/local/lib/python3.10/dist-packages (from pandas<3,>=1.4.0->streamlit) (2.8.2)\n",
            "Requirement already satisfied: pytz>=2020.1 in /usr/local/lib/python3.10/dist-packages (from pandas<3,>=1.4.0->streamlit) (2024.2)\n",
            "Requirement already satisfied: tzdata>=2022.7 in /usr/local/lib/python3.10/dist-packages (from pandas<3,>=1.4.0->streamlit) (2024.2)\n",
            "Requirement already satisfied: annotated-types>=0.6.0 in /usr/local/lib/python3.10/dist-packages (from pydantic!=1.8,!=1.8.1,<3.0.0,>=1.7.4->spacy) (0.7.0)\n",
            "Requirement already satisfied: pydantic-core==2.23.4 in /usr/local/lib/python3.10/dist-packages (from pydantic!=1.8,!=1.8.1,<3.0.0,>=1.7.4->spacy) (2.23.4)\n",
            "Requirement already satisfied: MarkupSafe>=2.0 in /usr/local/lib/python3.10/dist-packages (from jinja2->spacy) (2.1.5)\n",
            "Requirement already satisfied: charset-normalizer<4,>=2 in /usr/local/lib/python3.10/dist-packages (from requests<3,>=2.27->streamlit) (3.3.2)\n",
            "Requirement already satisfied: idna<4,>=2.5 in /usr/local/lib/python3.10/dist-packages (from requests<3,>=2.27->streamlit) (3.10)\n",
            "Requirement already satisfied: urllib3<3,>=1.21.1 in /usr/local/lib/python3.10/dist-packages (from requests<3,>=2.27->streamlit) (2.2.3)\n",
            "Requirement already satisfied: certifi>=2017.4.17 in /usr/local/lib/python3.10/dist-packages (from requests<3,>=2.27->streamlit) (2024.8.30)\n",
            "Requirement already satisfied: markdown-it-py>=2.2.0 in /usr/local/lib/python3.10/dist-packages (from rich<14,>=10.14.0->streamlit) (3.0.0)\n",
            "Requirement already satisfied: pygments<3.0.0,>=2.13.0 in /usr/local/lib/python3.10/dist-packages (from rich<14,>=10.14.0->streamlit) (2.18.0)\n",
            "Requirement already satisfied: blis<0.8.0,>=0.7.8 in /usr/local/lib/python3.10/dist-packages (from thinc<8.3.0,>=8.2.2->spacy) (0.7.11)\n",
            "Requirement already satisfied: confection<1.0.0,>=0.0.1 in /usr/local/lib/python3.10/dist-packages (from thinc<8.3.0,>=8.2.2->spacy) (0.1.5)\n",
            "Requirement already satisfied: shellingham>=1.3.0 in /usr/local/lib/python3.10/dist-packages (from typer<1.0.0,>=0.3.0->spacy) (1.5.4)\n",
            "Requirement already satisfied: cloudpathlib<1.0.0,>=0.7.0 in /usr/local/lib/python3.10/dist-packages (from weasel<0.5.0,>=0.1.0->spacy) (0.19.0)\n",
            "Requirement already satisfied: smart-open<8.0.0,>=5.2.1 in /usr/local/lib/python3.10/dist-packages (from weasel<0.5.0,>=0.1.0->spacy) (7.0.4)\n",
            "Requirement already satisfied: smmap<6,>=3.0.1 in /usr/local/lib/python3.10/dist-packages (from gitdb<5,>=4.0.1->gitpython!=3.1.19,<4,>=3.0.7->streamlit) (5.0.1)\n",
            "Requirement already satisfied: attrs>=22.2.0 in /usr/local/lib/python3.10/dist-packages (from jsonschema>=3.0->altair<6,>=4.0->streamlit) (24.2.0)\n",
            "Requirement already satisfied: jsonschema-specifications>=2023.03.6 in /usr/local/lib/python3.10/dist-packages (from jsonschema>=3.0->altair<6,>=4.0->streamlit) (2023.12.1)\n",
            "Requirement already satisfied: referencing>=0.28.4 in /usr/local/lib/python3.10/dist-packages (from jsonschema>=3.0->altair<6,>=4.0->streamlit) (0.35.1)\n",
            "Requirement already satisfied: rpds-py>=0.7.1 in /usr/local/lib/python3.10/dist-packages (from jsonschema>=3.0->altair<6,>=4.0->streamlit) (0.20.0)\n",
            "Requirement already satisfied: marisa-trie>=0.7.7 in /usr/local/lib/python3.10/dist-packages (from language-data>=1.2->langcodes<4.0.0,>=3.2.0->spacy) (1.2.0)\n",
            "Requirement already satisfied: mdurl~=0.1 in /usr/local/lib/python3.10/dist-packages (from markdown-it-py>=2.2.0->rich<14,>=10.14.0->streamlit) (0.1.2)\n",
            "Requirement already satisfied: wrapt in /usr/local/lib/python3.10/dist-packages (from smart-open<8.0.0,>=5.2.1->weasel<0.5.0,>=0.1.0->spacy) (1.16.0)\n",
            "Building wheels for collected packages: langdetect\n",
            "  Building wheel for langdetect (setup.py) ... \u001b[?25l\u001b[?25hdone\n",
            "  Created wheel for langdetect: filename=langdetect-1.0.9-py3-none-any.whl size=993221 sha256=32ca7e6e78ab4a3b3792841b72f04014b0ddef20840add7c9875842d116f7af1\n",
            "  Stored in directory: /root/.cache/pip/wheels/95/03/7d/59ea870c70ce4e5a370638b5462a7711ab78fba2f655d05106\n",
            "Successfully built langdetect\n",
            "Installing collected packages: langdetect\n",
            "Successfully installed langdetect-1.0.9\n"
          ]
        }
      ],
      "source": [
        "!pip install streamlit spacy langdetect plotly pymupdf python-docx"
      ]
    },
    {
      "cell_type": "code",
      "execution_count": null,
      "metadata": {
        "colab": {
          "base_uri": "https://localhost:8080/"
        },
        "id": "4L3xVQFmNF0c",
        "outputId": "1c8083bc-9965-4492-d7f0-59fe3e8dff6a"
      },
      "outputs": [
        {
          "name": "stdout",
          "output_type": "stream",
          "text": [
            "35.225.34.210\n"
          ]
        }
      ],
      "source": [
        "!wget -q -O - ipv4.icanhazip.com"
      ]
    },
    {
      "cell_type": "code",
      "execution_count": null,
      "metadata": {
        "colab": {
          "base_uri": "https://localhost:8080/"
        },
        "id": "8BgETXwiNKdb",
        "outputId": "38e20b99-e444-4c6b-97d9-226d696146af"
      },
      "outputs": [
        {
          "name": "stdout",
          "output_type": "stream",
          "text": [
            "\u001b[K\u001b[?25h\n",
            "up to date, audited 23 packages in 476ms\n",
            "\n",
            "3 packages are looking for funding\n",
            "  run `npm fund` for details\n",
            "\n",
            "2 \u001b[33m\u001b[1mmoderate\u001b[22m\u001b[39m severity vulnerabilities\n",
            "\n",
            "To address all issues (including breaking changes), run:\n",
            "  npm audit fix --force\n",
            "\n",
            "Run `npm audit` for details.\n"
          ]
        }
      ],
      "source": [
        "!npm install localtunnel"
      ]
    },
    {
      "cell_type": "code",
      "execution_count": null,
      "metadata": {
        "colab": {
          "base_uri": "https://localhost:8080/"
        },
        "id": "1B-D6o1RTTIt",
        "outputId": "99091977-6450-4d95-cb1c-6ccc1c89b7ab"
      },
      "outputs": [
        {
          "name": "stdout",
          "output_type": "stream",
          "text": [
            "Overwriting edu_enhanceapp.py\n"
          ]
        }
      ],
      "source": [
        "%%writefile edu_enhanceapp.py\n",
        "import streamlit as st\n",
        "import spacy\n",
        "from langdetect import detect\n",
        "from collections import Counter\n",
        "import plotly.graph_objects as go\n",
        "import random\n",
        "import fitz\n",
        "import docx\n",
        "\n",
        "# Load the English NLP model\n",
        "nlp = spacy.load(\"en_core_web_sm\")\n",
        "\n",
        "# Mock user credentials for login\n",
        "user_credentials = {\n",
        "    \"Aswath\": \"aswath@123\"\n",
        "}\n",
        "\n",
        "# Function to extract text from PDF file\n",
        "def extract_text_from_pdf(pdf_file):\n",
        "    pdf_document = fitz.open(stream=pdf_file.read(), filetype=\"pdf\")\n",
        "    text = \"\"\n",
        "    for page in pdf_document:\n",
        "        text += page.get_text()\n",
        "    return text\n",
        "\n",
        "# Function to extract text from DOCX file\n",
        "def extract_text_from_docx(docx_file):\n",
        "    doc = docx.Document(docx_file)\n",
        "    full_text = []\n",
        "    for para in doc.paragraphs:\n",
        "        full_text.append(para.text)\n",
        "    return \"\\n\".join(full_text)\n",
        "\n",
        "# Function to simulate plagiarism check.\n",
        "def check_plagiarism(text):\n",
        "    return random.randint(0, 100)\n",
        "\n",
        "# Function to detect redundancy in text\n",
        "def detect_redundancy(doc):\n",
        "    words = [token.text.lower() for token in doc if token.is_alpha]\n",
        "    word_count = Counter(words)\n",
        "    redundant_words = [word for word, count in word_count.items() if count > 3]\n",
        "    return redundant_words\n",
        "\n",
        "# Function to analyze coherence\n",
        "def analyze_coherence(doc):\n",
        "    paragraphs = [p for p in doc.text.split('\\n') if p.strip()]\n",
        "    if len(paragraphs) < 2:\n",
        "        return \"Try expanding your content with more paragraphs for better coherence.\"\n",
        "    return \"The paragraph structure looks coherent.\"\n",
        "\n",
        "# Function to personalize feedback based on user level\n",
        "def personalize_feedback(score, user_level):\n",
        "    feedback = []\n",
        "    if user_level == \"beginner\":\n",
        "        feedback.append(\"You're off to a good start! Focus on improving sentence structure and avoid redundancy.\")\n",
        "    elif user_level == \"intermediate\":\n",
        "        feedback.append(\"Well done! Try refining your content further by using more advanced vocabulary and clearer structure.\")\n",
        "    elif user_level == \"advanced\":\n",
        "        feedback.append(\"Excellent work! Your content is very polished. Focus on minor improvements for a flawless result.\")\n",
        "    return feedback\n",
        "\n",
        "# AI-Driven content scoring\n",
        "def content_scoring(doc, user_level):\n",
        "    score = 100\n",
        "    feedback = []\n",
        "\n",
        "    if not all([sent.text.endswith('.') for sent in doc.sents]):\n",
        "        score -= 10\n",
        "        feedback.append(\"Some sentences are missing periods.\")\n",
        "\n",
        "    redundant_words = detect_redundancy(doc)\n",
        "    if redundant_words:\n",
        "        score -= 10\n",
        "        feedback.append(f\"Redundant words found: {', '.join(redundant_words)}\")\n",
        "\n",
        "    coherence_feedback = analyze_coherence(doc)\n",
        "    if \"Try expanding\" in coherence_feedback:\n",
        "        score -= 10\n",
        "        feedback.append(coherence_feedback)\n",
        "\n",
        "    feedback.extend(personalize_feedback(score, user_level))\n",
        "    if score == 100:\n",
        "        feedback.append(\"Excellent! Your content is well-written.\")\n",
        "    else:\n",
        "        feedback.append(f\"Your content scored {score}/100.\")\n",
        "\n",
        "    return score, feedback\n",
        "\n",
        "# Multilingual detection\n",
        "def detect_language(text):\n",
        "    try:\n",
        "        lang = detect(text)\n",
        "    except:\n",
        "        lang = \"en\"  # Default to English if detection fails\n",
        "    return lang\n",
        "\n",
        "# Function to analyze text and generate feedback\n",
        "def analyze_text(user_input, user_level):\n",
        "    lang = detect_language(user_input)\n",
        "\n",
        "    if lang != 'en':\n",
        "        return f\"Currently, feedback is only available in English. Detected language: {lang}\"\n",
        "\n",
        "    doc = nlp(user_input)\n",
        "    feedback = []\n",
        "\n",
        "    for sent in doc.sents:\n",
        "        if not sent.text.endswith('.'):\n",
        "            feedback.append(f\"Sentence should end with a period: \\\"{sent.text}\\\"\")\n",
        "\n",
        "    redundant_words = detect_redundancy(doc)\n",
        "    if redundant_words:\n",
        "        feedback.append(f\"Redundant words detected: {', '.join(redundant_words)}.\")\n",
        "\n",
        "    feedback.append(analyze_coherence(doc))\n",
        "    score, scoring_feedback = content_scoring(doc, user_level)\n",
        "    feedback.extend(scoring_feedback)\n",
        "\n",
        "    return score, \"\\n\".join(feedback)\n",
        "\n",
        "# Function to create pie chart\n",
        "def plot_pie_chart(value, label):\n",
        "    labels = [label, \"Remaining\"]\n",
        "    values = [value, 100 - value]\n",
        "\n",
        "    fig = go.Figure(data=[go.Pie(labels=labels, values=values, hole=.3)])\n",
        "    fig.update_layout(\n",
        "        title=f\"{label} Percentage\",\n",
        "        template=\"plotly_white\"\n",
        "    )\n",
        "    return fig\n",
        "\n",
        "# Function to assign a grade based on score\n",
        "def assign_grade(score):\n",
        "    if score >= 90:\n",
        "        return \"O\"\n",
        "    elif score >= 80:\n",
        "        return \"A\"\n",
        "    elif score >= 70:\n",
        "        return \"B\"\n",
        "    elif score >= 60:\n",
        "        return \"C\"\n",
        "    else:\n",
        "        return \"D\"\n",
        "\n",
        "# Main dashboard\n",
        "def create_dashboard(user_input, user_level):\n",
        "    score, feedback = analyze_text(user_input, user_level)\n",
        "    plagiarism_percent = check_plagiarism(user_input)\n",
        "\n",
        "    plagiarism_chart = plot_pie_chart(plagiarism_percent, \"Plagiarism Detected\")\n",
        "    content_score_chart = plot_pie_chart(score, \"Content Score\")\n",
        "\n",
        "    grade = assign_grade(score)\n",
        "\n",
        "    return feedback, plagiarism_chart, content_score_chart, grade\n",
        "\n",
        "# App starts here\n",
        "st.title(\"EduEnhance Dashboard\")\n",
        "\n",
        "# Authentication\n",
        "if \"authenticated\" not in st.session_state:\n",
        "    st.session_state.authenticated = False\n",
        "\n",
        "if not st.session_state.authenticated:\n",
        "    st.subheader(\"Login\")\n",
        "\n",
        "    username = st.text_input(\"Username\")\n",
        "    password = st.text_input(\"Password\", type=\"password\")\n",
        "\n",
        "    if st.button(\"Login\"):\n",
        "        if username in user_credentials and user_credentials[username] == password:\n",
        "            st.session_state.authenticated = True\n",
        "            st.success(\"Login successful!\")\n",
        "        else:\n",
        "            st.error(\"Invalid username or password.\")\n",
        "\n",
        "# After login\n",
        "if st.session_state.authenticated:\n",
        "    st.subheader(\"Upload a File or Enter Text\")\n",
        "\n",
        "    # File upload options\n",
        "    file = st.file_uploader(\"Choose a file\", type=[\"pdf\", \"docx\"])\n",
        "    user_input = None\n",
        "\n",
        "    if file is not None:\n",
        "        # If it's a PDF, extract text\n",
        "        if file.type == \"application/pdf\":\n",
        "            user_input = extract_text_from_pdf(file)\n",
        "        # If it's a DOCX, extract text\n",
        "        elif file.type == \"application/vnd.openxmlformats-officedocument.wordprocessingml.document\":\n",
        "            user_input = extract_text_from_docx(file)\n",
        "\n",
        "        if user_input:\n",
        "            st.text_area(\"Extracted Text\", value=user_input, height=200)\n",
        "\n",
        "    else:\n",
        "        user_input = st.text_area(\"Or Enter Your Text\", height=200)\n",
        "\n",
        "    user_level = st.radio(\"Select Your Level\", [\"beginner\", \"intermediate\", \"advanced\"])\n",
        "\n",
        "    if st.button(\"Submit\") and user_input:\n",
        "        feedback, plagiarism_chart, content_score_chart, grade = create_dashboard(user_input, user_level)\n",
        "\n",
        "        st.subheader(\"Feedback\")\n",
        "        st.text(feedback)\n",
        "\n",
        "        st.subheader(\"Plagiarism Detection\")\n",
        "        st.plotly_chart(plagiarism_chart)\n",
        "\n",
        "        st.subheader(\"Content Score\")\n",
        "        st.plotly_chart(content_score_chart)\n",
        "\n",
        "        st.subheader(\"Grade\")\n",
        "        st.text(f\"Your grade is: {grade}\")"
      ]
    },
    {
      "cell_type": "code",
      "execution_count": null,
      "metadata": {
        "colab": {
          "base_uri": "https://localhost:8080/"
        },
        "id": "6ygaPTeHZnE-",
        "outputId": "39b0e1b7-b962-4165-ba7e-0cbee2b1bea5"
      },
      "outputs": [
        {
          "name": "stdout",
          "output_type": "stream",
          "text": [
            "35.225.34.210\n"
          ]
        }
      ],
      "source": [
        "!wget -q -O - ipv4.icanhazip.com"
      ]
    },
    {
      "cell_type": "code",
      "execution_count": null,
      "metadata": {
        "colab": {
          "background_save": true,
          "base_uri": "https://localhost:8080/"
        },
        "id": "gsKDcr1RDL-9",
        "outputId": "989a4568-2ef8-4a5f-a403-a41ef078dca1"
      },
      "outputs": [
        {
          "metadata": {
            "tags": null
          },
          "name": "stdout",
          "output_type": "stream",
          "text": [
            "your url is: https://blue-baboons-thank.loca.lt\n"
          ]
        }
      ],
      "source": [
        "!streamlit run edu_enhanceapp.py &>/dev/null&\n",
        "!npx localtunnel --port 8501"
      ]
    },
    {
      "cell_type": "code",
      "execution_count": null,
      "metadata": {
        "id": "zGNJKqiWUTyy"
      },
      "outputs": [],
      "source": []
    }
  ],
  "metadata": {
    "colab": {
      "provenance": []
    },
    "kernelspec": {
      "display_name": "Python 3",
      "name": "python3"
    },
    "language_info": {
      "name": "python"
    }
  },
  "nbformat": 4,
  "nbformat_minor": 0
}